{
 "cells": [
  {
   "cell_type": "markdown",
   "metadata": {},
   "source": [
    "<h1 class='alert alert-info'>Petit problème de mathématique financière.</h1>"
   ]
  },
  {
   "cell_type": "markdown",
   "metadata": {},
   "source": [
    "Imaginons que vous ayez 1€ à la banque et que la banque vous verse généreusement $100\\%$ d'intérêt annuel."
   ]
  },
  {
   "cell_type": "markdown",
   "metadata": {},
   "source": [
    "Afin de calculer l'évolution de nos économies, il est utile de rappeler une règle sur l'évolution en pourcentage. \n",
    "\n",
    "Augmenter de $t\\%$ se fait en multipliant par : \n",
    "\n",
    "<center><span class='alert alert-warning'>$1+\\dfrac{t}{100}$</span></center>"
   ]
  },
  {
   "cell_type": "markdown",
   "metadata": {},
   "source": [
    "En effet, lorsque l'on ajoute à une quantité $Q$, $t\\%$ de $Q$, on obtient $\\hspace{0.4cm}Q+Q\\times t\\%$.\n",
    "\n",
    "C'est-à-dire $Q+Q\\times \\dfrac{t}{100}$\n",
    "\n",
    "ce qui fait bien : <center><span class='alert alert-warning'>$Q\\times \\left(1+\\dfrac{t}{100}\\right)$</span></center>"
   ]
  },
  {
   "cell_type": "markdown",
   "metadata": {},
   "source": [
    "Par exemple, si on augmente 50€ de $20\\%$, on fait : $50\\times \\left(1+\\dfrac{20}{100}\\right)=50\\times 1,20=60$"
   ]
  },
  {
   "cell_type": "markdown",
   "metadata": {},
   "source": [
    "<h3 class='alert alert-info'>Le problème de Jacob Bernoulli  (1654-1705)</h3>\n",
    "\n",
    "![texte](jacob_bernoulli.jpg)\n",
    "\n"
   ]
  },
  {
   "cell_type": "markdown",
   "metadata": {},
   "source": [
    "Revenons à votre capital qui augmente !\n",
    "\n",
    "Au bout d'un an votre capital aura donc augmenté pour atteindre : $1\\times \\left(1+\\dfrac{100}{100}\\right)=1\\times \\left(1+1\\right)=2€ !$ incroyable !\n",
    "\n",
    "1. Dans un élan de générosité, la banque vous propose, au lieu d'augmenter de $100\\%$ au bout d'un an, d'augmenter plutôt de $50\\%$ par moitié, c'est-à-dire tous les 6 mois."
   ]
  },
  {
   "cell_type": "markdown",
   "metadata": {},
   "source": [
    "1. a. Par combien est multiplié votre capital au bout de 6 mois ?"
   ]
  },
  {
   "cell_type": "raw",
   "metadata": {},
   "source": []
  },
  {
   "cell_type": "markdown",
   "metadata": {},
   "source": [
    "Ce qui fait qu'au bout d'un an votre capital est multiplié par $\\left(1+\\dfrac{1}{2}\\right)\\times \\left(1+\\dfrac{1}{2}\\right) =\\left(1+\\dfrac{1}{2}\\right)^2$"
   ]
  },
  {
   "cell_type": "markdown",
   "metadata": {},
   "source": [
    "1. b. Quelle est le montant de votre capital au bout d'un an ?"
   ]
  },
  {
   "cell_type": "raw",
   "metadata": {},
   "source": []
  },
  {
   "cell_type": "markdown",
   "metadata": {},
   "source": [
    "2. \"Intéressant, qu'en dites-vous ?\" Ajoute le banquier. \"Mais ne me remerciez pas, attendez plutôt : nous allons faire mieux et chaque trimestre, nous augmenterons votre capital de $25\\%$.\""
   ]
  },
  {
   "cell_type": "markdown",
   "metadata": {},
   "source": [
    "2. a. Après avoir versé une larme d'émotion devant tant de bonté, vous faites vos calculs.\n",
    "\n",
    "Par combien allez-vous mutliplier votre capital chaque trimestre ? Au bout d'un an ?"
   ]
  },
  {
   "cell_type": "raw",
   "metadata": {},
   "source": []
  },
  {
   "cell_type": "markdown",
   "metadata": {},
   "source": [
    "2. b. Quel est votre nouveau capital au bout d'un an ?"
   ]
  },
  {
   "cell_type": "raw",
   "metadata": {},
   "source": []
  },
  {
   "cell_type": "markdown",
   "metadata": {},
   "source": [
    "2. c. Quel serait le facteur multiplicatif de votre capital si au lieu de faire 4 échéances à $25%$ il en faisant 12 à $\\dfrac{1}{12^e}$ de $100\\%$ ?"
   ]
  },
  {
   "cell_type": "raw",
   "metadata": {},
   "source": []
  },
  {
   "cell_type": "markdown",
   "metadata": {},
   "source": [
    "3. \"Vous m'êtes sympathique et ce matin je suis fou !\" s'emballe l'homme d'argent. \"Je vais faire mieux et chaque semaine, je vous verserai un intérêt de $\\dfrac{100}{52}\\%$. Vous vous rendez compte ?\"."
   ]
  },
  {
   "cell_type": "markdown",
   "metadata": {},
   "source": [
    "3. a. Non, vous ne vous rendez pas compte. Alors pour en avoir le coeur net, vous calculez :"
   ]
  },
  {
   "cell_type": "markdown",
   "metadata": {},
   "source": [
    "$$1\\times \\left(1+\\dfrac{\\frac{100}{52}}{100}\\right)^{52}=\\left(1+\\dfrac{1}{52}\\right)^{52}$$"
   ]
  },
  {
   "cell_type": "markdown",
   "metadata": {},
   "source": [
    "Ecrivez un algorithme en python qui calcule le montant de votre capital au bout de 52 multiplications par $1+\\dfrac{1}{52}$"
   ]
  },
  {
   "cell_type": "code",
   "execution_count": 27,
   "metadata": {},
   "outputs": [
    {
     "name": "stdout",
     "output_type": "stream",
     "text": [
      "Au bout d'un an je serai à la tête de :  0\n"
     ]
    }
   ],
   "source": [
    "#Une boucle for commencera par : for i in range(52):\n",
    "#mais il faudra d'abord créer une variable C comme capital, initialisée à 1\n",
    "#Validez la cellule en faisant Ctrl+Entrée\n",
    "\n",
    "print(\"Au bout d'un an je serai à la tête de : \", C)"
   ]
  },
  {
   "cell_type": "markdown",
   "metadata": {},
   "source": [
    "3. b. Un peu abasourdi vous vous demandez si votre capital va croître ainsi indéfiniment. Vous n'avez pas vraiment les moyens d'y répondre avec certitude mais vous avez tout de même une intuition. Laquelle ?"
   ]
  },
  {
   "cell_type": "raw",
   "metadata": {},
   "source": []
  },
  {
   "cell_type": "markdown",
   "metadata": {},
   "source": [
    "3. c. Que faut-il changer pour calculer le nouveau montant si il y avait 1000 échéances ?"
   ]
  },
  {
   "cell_type": "code",
   "execution_count": null,
   "metadata": {},
   "outputs": [],
   "source": []
  },
  {
   "cell_type": "markdown",
   "metadata": {},
   "source": [
    "Vous empruntez sa calculette à Oncle Picsou, vous refaites votre calcul et tombez sur $\\simeq 2.7169...$"
   ]
  },
  {
   "cell_type": "markdown",
   "metadata": {},
   "source": [
    "Quelle est votre conclusion ?"
   ]
  },
  {
   "cell_type": "raw",
   "metadata": {},
   "source": []
  },
  {
   "cell_type": "code",
   "execution_count": 22,
   "metadata": {},
   "outputs": [
    {
     "name": "stdout",
     "output_type": "stream",
     "text": [
      "2.7169239322355985\n"
     ]
    }
   ],
   "source": [
    "#Pour exécuter, appuyez sur Ctrl+Entrée\n",
    "C=1\n",
    "for i in range(1000):\n",
    "    C = C * (1+1/1000)\n",
    "print(C)"
   ]
  },
  {
   "cell_type": "markdown",
   "metadata": {},
   "source": [
    "Vous venez de découvrir $e$ à la manière historique de Jacob Bernoulli."
   ]
  },
  {
   "cell_type": "markdown",
   "metadata": {},
   "source": [
    "[Un peu plus d'histoire](https://www.math93.com/19-histoire-des-mathematiques/797-la-fonction-exponentielle-et-le-nombre-e.html)"
   ]
  },
  {
   "cell_type": "code",
   "execution_count": null,
   "metadata": {},
   "outputs": [],
   "source": []
  }
 ],
 "metadata": {
  "kernelspec": {
   "display_name": "Python 3",
   "language": "python",
   "name": "python3"
  },
  "language_info": {
   "codemirror_mode": {
    "name": "ipython",
    "version": 3
   },
   "file_extension": ".py",
   "mimetype": "text/x-python",
   "name": "python",
   "nbconvert_exporter": "python",
   "pygments_lexer": "ipython3",
   "version": "3.7.6"
  }
 },
 "nbformat": 4,
 "nbformat_minor": 4
}
