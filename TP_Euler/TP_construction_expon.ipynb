{
 "cells": [
  {
   "cell_type": "markdown",
   "metadata": {},
   "source": [
    "<h1 class='alert alert-info'>TP - Méthode d’Euler pour approcher la courbe représentative de la fonction exponentielle</h1>"
   ]
  },
  {
   "cell_type": "markdown",
   "metadata": {},
   "source": [
    "On souhaite tracer la courbe représentative de la fonction exponentielle en utilisant seulement sa définition :\n",
    "\n",
    "<p class='alert alert-danger'>La fonction exponentielle est l’unique fonction $f$ définie et dérivable sur R telle que $f′=f$ et $f(0)=1$.</p>"
   ]
  },
  {
   "cell_type": "markdown",
   "metadata": {},
   "source": [
    "**Questions préliminaires :**"
   ]
  },
  {
   "cell_type": "markdown",
   "metadata": {},
   "source": [
    "1. Soit $h>0$. Rappeler la définition du nombre dérivé d'une fonction $f$ en $x=a$."
   ]
  },
  {
   "cell_type": "markdown",
   "metadata": {},
   "source": []
  },
  {
   "cell_type": "markdown",
   "metadata": {},
   "source": [
    "Il en résulte que lorsque $h$ est petit, $\\dfrac{f(a+h)-f(a)}{h}\\simeq f'(a)$"
   ]
  },
  {
   "cell_type": "markdown",
   "metadata": {},
   "source": [
    " 2. Expliquer alors pourquoi on peut écrire que pour $h$ « très près de 0 » (on dit au voisinage de 0) : $f(a+h)\\simeq f(a)+h\\times f'(a)$"
   ]
  },
  {
   "cell_type": "markdown",
   "metadata": {},
   "source": [
    "A l'aide de cette formule, on peut construire une *approximation affine* de la fonction exponentielle, c'est la fonction :\n",
    "$x\\rightarrow f(a)+xf'(a)$."
   ]
  },
  {
   "cell_type": "markdown",
   "metadata": {},
   "source": [
    "**Illustration :**\n",
    "Prenons $a=0$ et $h=0,4$.\n",
    "\n",
    "![texte](MAT1_CH6_p168.jpg)\n",
    "\n",
    "On sait que $f(0)=1$ par définition de la fonction exponentielle.<br/>\n",
    "    \n",
    "On a : $a+h=0+0,4=0,4$, et $f(0+0,4)\\simeq f(0)+0,4\\times f'(0)$ on a donc :\n",
    "\n",
    "$f(0,4)\\simeq f(0)+0,4\\times f(0)=1+0,4\\times 1=1,4$.\n",
    "    \n",
    "Graphiquement : On part du point $A(0,f(0))$ et on construit le point de la courbe $\\mathcal(C_f)$ d'abscisse $0,4$ en l'approchant par : $B(0,4;1,4)$\n",
    "\n",
    "Le segment $[AB]$ représente une fonction affine sur l’intervalle $[0 ;0,4]$\n",
    "et est proche de la courbe représentant la fonction f telle que $f(0)=1$ et $f′(0)=1$ avec $h=0,4$."
   ]
  },
  {
   "cell_type": "markdown",
   "metadata": {},
   "source": [
    "**Construction à l'aide du module python** <code>matplotlib</code> :"
   ]
  },
  {
   "cell_type": "code",
   "execution_count": 15,
   "metadata": {},
   "outputs": [
    {
     "data": {
      "image/png": "[encoded data removed]",
      "text/plain": [
       "<Figure size 432x288 with 1 Axes>"
      ]
     },
     "metadata": {
      "needs_background": "light"
     },
     "output_type": "display_data"
    }
   ],
   "source": [
    "#Maj+Entrée pour exécuter le code\n",
    "from matplotlib import pyplot as plt\n",
    "from math import exp\n",
    "\n",
    "x = [0,0.4] #liste des abscisses des extrémités du segment [AB]\n",
    "y = [1,1.4] #liste des ordonnées des extrémités du segment [AB]\n",
    "\n",
    "x2 = [i/1000 for i in range(-1000,1101)]\n",
    "y2= [exp(i) for i in x2] #fonction exponentielle\n",
    "\n",
    "# Affichage des points dans le repère\n",
    "\n",
    "plt.clf()\n",
    "plt.axis([-0.15,1.1,-0.2,3.1])\n",
    "plt.grid()\n",
    "plt.plot(x, y, marker='o', linestyle='-')\n",
    "plt.plot(x2, y2, marker='', linestyle='-', color='red')\n",
    "plt.show()"
   ]
  },
  {
   "cell_type": "markdown",
   "metadata": {},
   "source": [
    "<h1 class=\"alert alert-info\">Objectifs :</h1>"
   ]
  },
  {
   "cell_type": "markdown",
   "metadata": {},
   "source": [
    "<p><b> Construire point par point la courbe représentative de la fonction exponentielle sur l’intervalle [0 ;1]\n",
    "    \n",
    "à l’aide des segments représentant des fonctions affines.</b></p>"
   ]
  },
  {
   "cell_type": "markdown",
   "metadata": {},
   "source": [
    "1. On choisit de partager l’intervalle [0;1] en dix intervalles réguliers (appelés *subdivision régulière*). "
   ]
  },
  {
   "cell_type": "markdown",
   "metadata": {},
   "source": [
    " a. Quel sera le pas h de la subdivision ?"
   ]
  },
  {
   "cell_type": "markdown",
   "metadata": {},
   "source": []
  },
  {
   "cell_type": "markdown",
   "metadata": {},
   "source": [
    "b. En utilisant la définition de la fonction exponentielle et la question préliminaire 2., donner une approximation affine de $f(0.1)$."
   ]
  },
  {
   "cell_type": "markdown",
   "metadata": {},
   "source": []
  },
  {
   "cell_type": "markdown",
   "metadata": {},
   "source": [
    "c. Quelle est la valeur approximative de $f′(0,1)$ ?"
   ]
  },
  {
   "cell_type": "markdown",
   "metadata": {},
   "source": []
  },
  {
   "cell_type": "markdown",
   "metadata": {},
   "source": [
    "d. En déduire une approximation affine de $f(0,2)$."
   ]
  },
  {
   "cell_type": "markdown",
   "metadata": {},
   "source": []
  },
  {
   "cell_type": "markdown",
   "metadata": {},
   "source": [
    "2. Le programme ci-dessous donne une courbe approchant la représentation graphique de la fonction exponentielle sur l’intervalle $[0 ;1]$.<br/>\n",
    "Où apparaît le nombre de subdivisions régulières ?"
   ]
  },
  {
   "cell_type": "code",
   "execution_count": 17,
   "metadata": {},
   "outputs": [
    {
     "data": {
      "image/png": "[encoded data removed]",
      "text/plain": [
       "<Figure size 432x288 with 1 Axes>"
      ]
     },
     "metadata": {
      "needs_background": "light"
     },
     "output_type": "display_data"
    }
   ],
   "source": [
    "#Maj+Entrée pour exécuter le code\n",
    "from matplotlib import pyplot as plt\n",
    "from math import exp\n",
    "\n",
    "n = 10\n",
    "x = [] #liste des abscisses\n",
    "y = [] #liste des ordonnées\n",
    "x = x + [0]\n",
    "y = y + [1]\n",
    "x2 = [i/1000 for i in range(1,1001)]\n",
    "y2= [exp(i) for i in x2] #fonction exponentielle\n",
    "\n",
    "for k in range(1, n + 1):\n",
    "  a = float(x[k - 1]) + 1/n\n",
    "  x = x + [a]\n",
    "  b = (1 + 1/n)*float(y[k - 1])\n",
    "  y = y + [b]\n",
    "  # Affichage des points dans le repère\n",
    "plt.clf()\n",
    "plt.axis([0,1,0,3])\n",
    "plt.grid()\n",
    "plt.plot(x, y, marker='.', linestyle='-')\n",
    "plt.plot(x2, y2, marker='', linestyle='-', color='red')\n",
    "plt.show()"
   ]
  },
  {
   "cell_type": "markdown",
   "metadata": {},
   "source": [
    "Expliquer le code des lignes 9 à 13 (boucle for)."
   ]
  },
  {
   "cell_type": "markdown",
   "metadata": {},
   "source": []
  },
  {
   "cell_type": "markdown",
   "metadata": {},
   "source": [
    "Exécuter ce programme avec dix puis cent subdivisions et comparer le résultat avec la courbe de la fonction exponentielle."
   ]
  },
  {
   "cell_type": "markdown",
   "metadata": {},
   "source": []
  }
 ],
 "metadata": {
  "kernelspec": {
   "display_name": "Python 3",
   "language": "python",
   "name": "python3"
  },
  "language_info": {
   "codemirror_mode": {
    "name": "ipython",
    "version": 3
   },
   "file_extension": ".py",
   "mimetype": "text/x-python",
   "name": "python",
   "nbconvert_exporter": "python",
   "pygments_lexer": "ipython3",
   "version": "3.7.6"
  }
 },
 "nbformat": 4,
 "nbformat_minor": 4
}
